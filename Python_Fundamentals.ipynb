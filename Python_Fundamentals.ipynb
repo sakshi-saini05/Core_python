{
 "cells": [
  {
   "cell_type": "markdown",
   "id": "236d808a",
   "metadata": {},
   "source": [
    "# comment :- used to give the description to code\n",
    "this description would be ignored by interpreter."
   ]
  },
  {
   "cell_type": "markdown",
   "id": "92b77239",
   "metadata": {},
   "source": [
    " # for single comment"
   ]
  },
  {
   "cell_type": "code",
   "execution_count": 1,
   "id": "17484d3a",
   "metadata": {},
   "outputs": [
    {
     "name": "stdout",
     "output_type": "stream",
     "text": [
      "helloz\n"
     ]
    }
   ],
   "source": [
    "# this code is displaying\n",
    "print(\"helloz\") # print is used for output"
   ]
  },
  {
   "cell_type": "code",
   "execution_count": 1,
   "id": "d97f0412",
   "metadata": {},
   "outputs": [
    {
     "name": "stdout",
     "output_type": "stream",
     "text": [
      "hello\n"
     ]
    }
   ],
   "source": [
    "'''this is my first code i am enjoying'''#from multiple comment we use('''''')\n",
    "print(\"hello\")"
   ]
  },
  {
   "cell_type": "markdown",
   "id": "35e173a1",
   "metadata": {},
   "source": [
    "## variables :- it is a container which is used to hold the data"
   ]
  },
  {
   "cell_type": "markdown",
   "id": "ebdbb649",
   "metadata": {},
   "source": [
    "how to create the variable"
   ]
  },
  {
   "cell_type": "code",
   "execution_count": 1,
   "id": "ae0c279f",
   "metadata": {},
   "outputs": [
    {
     "name": "stdout",
     "output_type": "stream",
     "text": [
      "hello\n"
     ]
    }
   ],
   "source": [
    "a = \"hello\" #how to create the variables\n",
    "print (a)"
   ]
  },
  {
   "cell_type": "code",
   "execution_count": 3,
   "id": "efe52bc4",
   "metadata": {},
   "outputs": [
    {
     "name": "stdout",
     "output_type": "stream",
     "text": [
      "sakshi\n"
     ]
    }
   ],
   "source": [
    "a = \"sakshi\"\n",
    "a\n",
    "a =5\n",
    "a\n",
    "print(\"sakshi\")"
   ]
  },
  {
   "cell_type": "markdown",
   "id": "0c70c174",
   "metadata": {},
   "source": [
    "# identifiers : it is the naming rule for variables"
   ]
  },
  {
   "cell_type": "markdown",
   "id": "2602b04f",
   "metadata": {},
   "source": [
    "- it should start with alphabet a-z/A-Z or only one special character is allowed i.e _\n",
    "- it can have letters,numbers,and special character i.e _anywhere\n",
    "- it is case sensitive\n",
    "- it is not the keyword\n",
    "- it could be any length"
   ]
  },
  {
   "cell_type": "markdown",
   "id": "1036bcf5",
   "metadata": {},
   "source": [
    "# Rule :1"
   ]
  },
  {
   "cell_type": "code",
   "execution_count": 4,
   "id": "f25098b8",
   "metadata": {},
   "outputs": [
    {
     "data": {
      "text/plain": [
       "90"
      ]
     },
     "execution_count": 4,
     "metadata": {},
     "output_type": "execute_result"
    }
   ],
   "source": [
    "_sakshi=90\n",
    "_sakshi"
   ]
  },
  {
   "cell_type": "code",
   "execution_count": 4,
   "id": "72cdc358",
   "metadata": {},
   "outputs": [
    {
     "data": {
      "text/plain": [
       "90"
      ]
     },
     "execution_count": 4,
     "metadata": {},
     "output_type": "execute_result"
    }
   ],
   "source": [
    "sakshi"
   ]
  },
  {
   "cell_type": "code",
   "execution_count": 4,
   "id": "85085ece",
   "metadata": {},
   "outputs": [
    {
     "ename": "NameError",
     "evalue": "name 'sakshi' is not defined",
     "output_type": "error",
     "traceback": [
      "\u001b[1;31m---------------------------------------------------------------------------\u001b[0m",
      "\u001b[1;31mNameError\u001b[0m                                 Traceback (most recent call last)",
      "Cell \u001b[1;32mIn[4], line 1\u001b[0m\n\u001b[1;32m----> 1\u001b[0m \u001b[43msakshi\u001b[49m\u001b[38;5;241m-\u001b[39m\u001b[38;5;241m90\u001b[39m\n",
      "\u001b[1;31mNameError\u001b[0m: name 'sakshi' is not defined"
     ]
    }
   ],
   "source": [
    "sakshi-90 # Error"
   ]
  },
  {
   "cell_type": "code",
   "execution_count": 6,
   "id": "42ed714d",
   "metadata": {},
   "outputs": [
    {
     "ename": "SyntaxError",
     "evalue": "cannot assign to expression here. Maybe you meant '==' instead of '='? (2106176116.py, line 1)",
     "output_type": "error",
     "traceback": [
      "\u001b[1;36m  Cell \u001b[1;32mIn[6], line 1\u001b[1;36m\u001b[0m\n\u001b[1;33m    -sakshi = 50\u001b[0m\n\u001b[1;37m    ^\u001b[0m\n\u001b[1;31mSyntaxError\u001b[0m\u001b[1;31m:\u001b[0m cannot assign to expression here. Maybe you meant '==' instead of '='?\n"
     ]
    }
   ],
   "source": [
    "-sakshi = 50"
   ]
  },
  {
   "cell_type": "markdown",
   "id": "91274451",
   "metadata": {},
   "source": [
    "## Rule 2\n"
   ]
  },
  {
   "cell_type": "code",
   "execution_count": 8,
   "id": "b560afe8",
   "metadata": {},
   "outputs": [],
   "source": [
    "sakshi_saini=40"
   ]
  },
  {
   "cell_type": "code",
   "execution_count": 9,
   "id": "8f1bf25d",
   "metadata": {},
   "outputs": [
    {
     "ename": "TypeError",
     "evalue": "unsupported operand type(s) for @=: 'int' and 'int'",
     "output_type": "error",
     "traceback": [
      "\u001b[1;31m---------------------------------------------------------------------------\u001b[0m",
      "\u001b[1;31mTypeError\u001b[0m                                 Traceback (most recent call last)",
      "Cell \u001b[1;32mIn[9], line 1\u001b[0m\n\u001b[1;32m----> 1\u001b[0m sakshi\u001b[38;5;241m@\u001b[39m\u001b[38;5;241m=\u001b[39m\u001b[38;5;241m50\u001b[39m\n",
      "\u001b[1;31mTypeError\u001b[0m: unsupported operand type(s) for @=: 'int' and 'int'"
     ]
    }
   ],
   "source": [
    "sakshi@=50"
   ]
  },
  {
   "cell_type": "markdown",
   "id": "c0093a71",
   "metadata": {},
   "source": [
    "## Rule 3\n"
   ]
  },
  {
   "cell_type": "code",
   "execution_count": 5,
   "id": "db0cd38b",
   "metadata": {},
   "outputs": [
    {
     "data": {
      "text/plain": [
       "100"
      ]
     },
     "execution_count": 5,
     "metadata": {},
     "output_type": "execute_result"
    }
   ],
   "source": [
    "sakshi=100\n",
    "sakshi"
   ]
  },
  {
   "cell_type": "code",
   "execution_count": 7,
   "id": "961eed7d",
   "metadata": {},
   "outputs": [
    {
     "data": {
      "text/plain": [
       "100"
      ]
     },
     "execution_count": 7,
     "metadata": {},
     "output_type": "execute_result"
    }
   ],
   "source": [
    "SAKSHI = 20\n",
    "sakshi"
   ]
  },
  {
   "cell_type": "markdown",
   "id": "aa0f4514",
   "metadata": {},
   "source": [
    "BOTH OF THIS WILL BE TREATED DIFFERENTLY"
   ]
  },
  {
   "cell_type": "markdown",
   "id": "5e57a8af",
   "metadata": {},
   "source": [
    "## RULE 4"
   ]
  },
  {
   "cell_type": "markdown",
   "id": "d29e7df9",
   "metadata": {},
   "source": [
    "keywords : they are the reserved words which has special meaning\n"
   ]
  },
  {
   "cell_type": "code",
   "execution_count": 8,
   "id": "7faa97d7",
   "metadata": {},
   "outputs": [],
   "source": [
    "import keyword"
   ]
  },
  {
   "cell_type": "code",
   "execution_count": 9,
   "id": "2ba9802b",
   "metadata": {},
   "outputs": [
    {
     "name": "stdout",
     "output_type": "stream",
     "text": [
      "['False', 'None', 'True', 'and', 'as', 'assert', 'async', 'await', 'break', 'class', 'continue', 'def', 'del', 'elif', 'else', 'except', 'finally', 'for', 'from', 'global', 'if', 'import', 'in', 'is', 'lambda', 'nonlocal', 'not', 'or', 'pass', 'raise', 'return', 'try', 'while', 'with', 'yield']\n"
     ]
    }
   ],
   "source": [
    "print(keyword.kwlist)"
   ]
  },
  {
   "cell_type": "code",
   "execution_count": 3,
   "id": "b3281885",
   "metadata": {},
   "outputs": [
    {
     "ename": "SyntaxError",
     "evalue": "invalid syntax (696584940.py, line 1)",
     "output_type": "error",
     "traceback": [
      "\u001b[1;36m  Cell \u001b[1;32mIn[3], line 1\u001b[1;36m\u001b[0m\n\u001b[1;33m    if =90\u001b[0m\n\u001b[1;37m       ^\u001b[0m\n\u001b[1;31mSyntaxError\u001b[0m\u001b[1;31m:\u001b[0m invalid syntax\n"
     ]
    }
   ],
   "source": [
    "if =90"
   ]
  },
  {
   "cell_type": "code",
   "execution_count": 4,
   "id": "67684590",
   "metadata": {},
   "outputs": [
    {
     "ename": "SyntaxError",
     "evalue": "invalid syntax (1425585802.py, line 1)",
     "output_type": "error",
     "traceback": [
      "\u001b[1;36m  Cell \u001b[1;32mIn[4], line 1\u001b[1;36m\u001b[0m\n\u001b[1;33m    IF AGE>18\u001b[0m\n\u001b[1;37m       ^\u001b[0m\n\u001b[1;31mSyntaxError\u001b[0m\u001b[1;31m:\u001b[0m invalid syntax\n"
     ]
    }
   ],
   "source": [
    "IF AGE>18  # CASE SENSITIVE"
   ]
  },
  {
   "cell_type": "markdown",
   "id": "8c6d90a9",
   "metadata": {},
   "source": [
    "rule 5"
   ]
  },
  {
   "cell_type": "code",
   "execution_count": 5,
   "id": "62b63fc2",
   "metadata": {},
   "outputs": [],
   "source": [
    "aseujkfoejmf=90"
   ]
  },
  {
   "cell_type": "code",
   "execution_count": 9,
   "id": "709159d7",
   "metadata": {},
   "outputs": [],
   "source": [
    "a=\"vaibhav\""
   ]
  },
  {
   "cell_type": "code",
   "execution_count": 10,
   "id": "64770015",
   "metadata": {},
   "outputs": [
    {
     "data": {
      "text/plain": [
       "'vaibhav'"
      ]
     },
     "execution_count": 10,
     "metadata": {},
     "output_type": "execute_result"
    }
   ],
   "source": [
    "a"
   ]
  },
  {
   "cell_type": "markdown",
   "id": "da1e225b",
   "metadata": {},
   "source": [
    "## Data types \n",
    "\n",
    "- numeric\n",
    "   - integer\n",
    "   - float\n",
    "   - complex\n",
    " - sequence type\n",
    "   - `string\n",
    "   - list\n",
    "   - tuple\n",
    " - boolean\n",
    " - set\n",
    " - dictionary\n",
    "\n"
   ]
  },
  {
   "cell_type": "markdown",
   "id": "bd157fa7",
   "metadata": {},
   "source": [
    " # numeric\n",
    "  - integer"
   ]
  },
  {
   "cell_type": "code",
   "execution_count": 1,
   "id": "348442a1",
   "metadata": {},
   "outputs": [
    {
     "name": "stdout",
     "output_type": "stream",
     "text": [
      "34\n",
      "<class 'int'>\n",
      "-45\n",
      "<class 'int'>\n"
     ]
    }
   ],
   "source": [
    "a = 34\n",
    "print(a)\n",
    "print(type(a))\n"
   ]
  },
  {
   "cell_type": "markdown",
   "id": "6f94dc01",
   "metadata": {},
   "source": [
    "- float"
   ]
  },
  {
   "cell_type": "code",
   "execution_count": 2,
   "id": "8f2e9dfe",
   "metadata": {},
   "outputs": [
    {
     "name": "stdout",
     "output_type": "stream",
     "text": [
      "90.6\n",
      "<class 'float'>\n"
     ]
    }
   ],
   "source": [
    "b = 90.6\n",
    "print(b)\n",
    "print(type(b))"
   ]
  },
  {
   "cell_type": "markdown",
   "id": "c0b90cd7",
   "metadata": {},
   "source": [
    "- complex"
   ]
  },
  {
   "cell_type": "code",
   "execution_count": 4,
   "id": "13d6e412",
   "metadata": {},
   "outputs": [
    {
     "name": "stdout",
     "output_type": "stream",
     "text": [
      "(9+5j)\n",
      "<class 'complex'>\n"
     ]
    }
   ],
   "source": [
    "c = 9+5j\n",
    "print(c)\n",
    "print(type(c))"
   ]
  },
  {
   "cell_type": "markdown",
   "id": "d6e2efec",
   "metadata": {},
   "source": [
    "# sequence\n",
    "- string : all the statements written in '',\"\",\"\"\" are the strings.\n",
    "  - using ''\n",
    "  - using \"\"\n",
    "  - using \"\"\"\""
   ]
  },
  {
   "cell_type": "code",
   "execution_count": 6,
   "id": "a7a6b351",
   "metadata": {},
   "outputs": [
    {
     "name": "stdout",
     "output_type": "stream",
     "text": [
      "madrid solution\n",
      "<class 'str'>\n"
     ]
    }
   ],
   "source": [
    "z = \"madrid solution\"\n",
    "print(z)\n",
    "print(type(z))"
   ]
  },
  {
   "cell_type": "code",
   "execution_count": 7,
   "id": "0daa1e64",
   "metadata": {},
   "outputs": [
    {
     "name": "stdout",
     "output_type": "stream",
     "text": [
      "madrid1234\n",
      "<class 'str'>\n"
     ]
    }
   ],
   "source": [
    "s = 'madrid1234'\n",
    "print(s)\n",
    "print(type(z))"
   ]
  },
  {
   "cell_type": "code",
   "execution_count": 8,
   "id": "36ad4b08",
   "metadata": {},
   "outputs": [
    {
     "name": "stdout",
     "output_type": "stream",
     "text": [
      "123245\n",
      "<class 'str'>\n"
     ]
    }
   ],
   "source": [
    "s = \"123245\"\n",
    "print(s)\n",
    "print(type(s))"
   ]
  },
  {
   "cell_type": "markdown",
   "id": "064267dd",
   "metadata": {},
   "source": [
    "### if the double or single courts in between the statement then use acc to the courts used in the statement"
   ]
  },
  {
   "cell_type": "code",
   "execution_count": 11,
   "id": "7c373923",
   "metadata": {},
   "outputs": [
    {
     "name": "stdout",
     "output_type": "stream",
     "text": [
      "hi how 'r u\n",
      "<class 'str'>\n"
     ]
    }
   ],
   "source": [
    "s = \"hi how 'r u\"\n",
    "print(s)\n",
    "print(type(s))"
   ]
  },
  {
   "cell_type": "markdown",
   "id": "d39a19e9",
   "metadata": {},
   "source": [
    "-- using \"\"\""
   ]
  },
  {
   "cell_type": "code",
   "execution_count": 21,
   "id": "b5410add",
   "metadata": {},
   "outputs": [
    {
     "name": "stdout",
     "output_type": "stream",
     "text": [
      "hi,how r you how u r doing well\n",
      "<class 'str'>\n"
     ]
    }
   ],
   "source": [
    "s = \"\"\"hi,how r you how u r doing well\"\"\"\n",
    "print(s)\n",
    "print(type(s))"
   ]
  },
  {
   "cell_type": "markdown",
   "id": "81c982e1",
   "metadata": {},
   "source": [
    "# list : it is the collection of multiple data\n"
   ]
  },
  {
   "cell_type": "code",
   "execution_count": 14,
   "id": "714f1c3a",
   "metadata": {},
   "outputs": [
    {
     "name": "stdout",
     "output_type": "stream",
     "text": [
      "['sakshi', 20, 'female', 7015319526]\n",
      "<class 'list'>\n"
     ]
    }
   ],
   "source": [
    "student=[\"sakshi\",20,\"female\",7015319526] # hetrogenous list # used[]for list\n",
    "print(student)\n",
    "print(type(student))"
   ]
  },
  {
   "cell_type": "code",
   "execution_count": 15,
   "id": "7db27cee",
   "metadata": {},
   "outputs": [
    {
     "name": "stdout",
     "output_type": "stream",
     "text": [
      "[12, 13, 14, 15]\n",
      "<class 'list'>\n"
     ]
    }
   ],
   "source": [
    "marks=[12,13,14,15] # homogenous list\n",
    "print(marks)\n",
    "print(type(marks))"
   ]
  },
  {
   "cell_type": "markdown",
   "id": "6cba1a52",
   "metadata": {},
   "source": [
    "# tuple :- it is similar to the list but the only difference is tuple is immutable and list is mutable"
   ]
  },
  {
   "cell_type": "code",
   "execution_count": 20,
   "id": "585ec4de",
   "metadata": {},
   "outputs": [
    {
     "name": "stdout",
     "output_type": "stream",
     "text": [
      "('sakshi', 25, 30)\n",
      "<class 'tuple'>\n"
     ]
    }
   ],
   "source": [
    "a =(\"sakshi\",25,30) # used () for tuple\n",
    "print(a)\n",
    "print(type(a))"
   ]
  },
  {
   "cell_type": "markdown",
   "id": "1e2ed9ce",
   "metadata": {},
   "source": [
    "- boolean :- for true and false"
   ]
  },
  {
   "cell_type": "code",
   "execution_count": 18,
   "id": "b96953f5",
   "metadata": {},
   "outputs": [
    {
     "name": "stdout",
     "output_type": "stream",
     "text": [
      "True\n",
      "<class 'bool'>\n"
     ]
    }
   ],
   "source": [
    "a =True\n",
    "print(a)\n",
    "print(type(a))"
   ]
  },
  {
   "cell_type": "code",
   "execution_count": 22,
   "id": "65aeb7ec",
   "metadata": {},
   "outputs": [
    {
     "ename": "NameError",
     "evalue": "name 'true' is not defined",
     "output_type": "error",
     "traceback": [
      "\u001b[1;31m---------------------------------------------------------------------------\u001b[0m",
      "\u001b[1;31mNameError\u001b[0m                                 Traceback (most recent call last)",
      "Cell \u001b[1;32mIn[22], line 1\u001b[0m\n\u001b[1;32m----> 1\u001b[0m a \u001b[38;5;241m=\u001b[39m\u001b[43mtrue\u001b[49m\n\u001b[0;32m      2\u001b[0m \u001b[38;5;28mprint\u001b[39m(a)\n\u001b[0;32m      3\u001b[0m \u001b[38;5;28mprint\u001b[39m(\u001b[38;5;28mtype\u001b[39m(a))\n",
      "\u001b[1;31mNameError\u001b[0m: name 'true' is not defined"
     ]
    }
   ],
   "source": [
    "a =true\n",
    "print(a)\n",
    "print(type(a))"
   ]
  },
  {
   "cell_type": "code",
   "execution_count": 19,
   "id": "06e7af6e",
   "metadata": {},
   "outputs": [
    {
     "name": "stdout",
     "output_type": "stream",
     "text": [
      "False\n",
      "<class 'bool'>\n"
     ]
    }
   ],
   "source": [
    "b = False\n",
    "print(b)\n",
    "print(type(b))"
   ]
  },
  {
   "cell_type": "markdown",
   "id": "e3947d03",
   "metadata": {},
   "source": [
    "# Type casting :- type conversion from one data type to another\n"
   ]
  },
  {
   "cell_type": "code",
   "execution_count": 24,
   "id": "afa2087d",
   "metadata": {},
   "outputs": [
    {
     "name": "stdout",
     "output_type": "stream",
     "text": [
      "50\n",
      "<class 'int'>\n",
      "50.0\n",
      "<class 'float'>\n"
     ]
    }
   ],
   "source": [
    "# int to float\n",
    "a = 50\n",
    "print(a)\n",
    "print(type(a))\n",
    "b = float(a)\n",
    "print (b)\n",
    "print(type(b))"
   ]
  },
  {
   "cell_type": "code",
   "execution_count": 25,
   "id": "07261929",
   "metadata": {},
   "outputs": [
    {
     "name": "stdout",
     "output_type": "stream",
     "text": [
      "50.0\n",
      "<class 'float'>\n",
      "50\n",
      "<class 'int'>\n"
     ]
    }
   ],
   "source": [
    "# float to int\n",
    "a = 50.00\n",
    "print(a)\n",
    "print(type(a))\n",
    "b = int(a)\n",
    "print (b)\n",
    "print(type(b))"
   ]
  },
  {
   "cell_type": "code",
   "execution_count": 26,
   "id": "06855134",
   "metadata": {},
   "outputs": [
    {
     "name": "stdout",
     "output_type": "stream",
     "text": [
      "50\n",
      "<class 'int'>\n",
      "50\n",
      "<class 'str'>\n"
     ]
    }
   ],
   "source": [
    "# int to string\n",
    "a = 50\n",
    "print(a)\n",
    "print(type(a))\n",
    "b = str(a)\n",
    "print (b)\n",
    "print(type(b))"
   ]
  },
  {
   "cell_type": "code",
   "execution_count": 28,
   "id": "37732f17",
   "metadata": {},
   "outputs": [
    {
     "name": "stdout",
     "output_type": "stream",
     "text": [
      "52.36\n",
      "<class 'float'>\n",
      "52.36\n",
      "<class 'str'>\n"
     ]
    }
   ],
   "source": [
    "\n",
    "# float to string\n",
    "a = 52.36\n",
    "print(a)\n",
    "print(type(a))\n",
    "b = str(a)\n",
    "print (b)\n",
    "print(type(b))"
   ]
  },
  {
   "cell_type": "code",
   "execution_count": 29,
   "id": "d1440781",
   "metadata": {},
   "outputs": [
    {
     "name": "stdout",
     "output_type": "stream",
     "text": [
      "hello\n",
      "<class 'str'>\n"
     ]
    },
    {
     "ename": "ValueError",
     "evalue": "invalid literal for int() with base 10: 'hello'",
     "output_type": "error",
     "traceback": [
      "\u001b[1;31m---------------------------------------------------------------------------\u001b[0m",
      "\u001b[1;31mValueError\u001b[0m                                Traceback (most recent call last)",
      "Cell \u001b[1;32mIn[29], line 5\u001b[0m\n\u001b[0;32m      3\u001b[0m \u001b[38;5;28mprint\u001b[39m(a)\n\u001b[0;32m      4\u001b[0m \u001b[38;5;28mprint\u001b[39m(\u001b[38;5;28mtype\u001b[39m(a))\n\u001b[1;32m----> 5\u001b[0m b \u001b[38;5;241m=\u001b[39m \u001b[38;5;28;43mint\u001b[39;49m\u001b[43m(\u001b[49m\u001b[43ma\u001b[49m\u001b[43m)\u001b[49m\n\u001b[0;32m      6\u001b[0m \u001b[38;5;28mprint\u001b[39m (b)\n\u001b[0;32m      7\u001b[0m \u001b[38;5;28mprint\u001b[39m(\u001b[38;5;28mtype\u001b[39m(b))\n",
      "\u001b[1;31mValueError\u001b[0m: invalid literal for int() with base 10: 'hello'"
     ]
    }
   ],
   "source": [
    "# string to int\n",
    "a =\"hello\"\n",
    "print(a)\n",
    "print(type(a))\n",
    "b = int(a)\n",
    "print (b)\n",
    "print(type(b))"
   ]
  },
  {
   "cell_type": "code",
   "execution_count": 3,
   "id": "3ce4e2d5",
   "metadata": {},
   "outputs": [
    {
     "name": "stdout",
     "output_type": "stream",
     "text": [
      "50\n",
      "<class 'str'>\n",
      "50\n",
      "<class 'int'>\n"
     ]
    }
   ],
   "source": [
    "# string to int\n",
    "a = \"50\"\n",
    "print(a)\n",
    "print(type(a))\n",
    "b = int(a)\n",
    "print (b)\n",
    "print(type(b))"
   ]
  },
  {
   "cell_type": "code",
   "execution_count": 31,
   "id": "11f908d0",
   "metadata": {},
   "outputs": [
    {
     "name": "stdout",
     "output_type": "stream",
     "text": [
      "354\n",
      "<class 'str'>\n",
      "354\n",
      "<class 'int'>\n"
     ]
    }
   ],
   "source": [
    "# string to float\n",
    "a = \"354\"\n",
    "print(a)\n",
    "print(type(a))\n",
    "b = float(a)\n",
    "print (b)\n",
    "print(type(b))"
   ]
  },
  {
   "cell_type": "code",
   "execution_count": 5,
   "id": "9dae48df",
   "metadata": {},
   "outputs": [
    {
     "name": "stdout",
     "output_type": "stream",
     "text": [
      "345.87\n",
      "<class 'str'>\n",
      "<class 'float'>\n",
      "<class 'int'>\n"
     ]
    }
   ],
   "source": [
    "# string to int # it requires the double conversion\n",
    "a = \"345.87\"\n",
    "print(a)\n",
    "print(type(a))\n",
    "b = float(a)\n",
    "print(type(b))\n",
    "c = int(b)\n",
    "print(type(c))"
   ]
  },
  {
   "cell_type": "code",
   "execution_count": 35,
   "id": "72113b7e",
   "metadata": {},
   "outputs": [
    {
     "name": "stdout",
     "output_type": "stream",
     "text": [
      "True\n",
      "<class 'bool'>\n",
      "1\n",
      "<class 'int'>\n"
     ]
    }
   ],
   "source": [
    "# bool to int \n",
    "a = True # TRUE = 1 AND FALSE = 0\n",
    "print(a)\n",
    "print(type(a))\n",
    "b = int(a)\n",
    "print (b)\n",
    "print(type(b))"
   ]
  },
  {
   "cell_type": "code",
   "execution_count": 37,
   "id": "2dc1a35f",
   "metadata": {},
   "outputs": [
    {
     "name": "stdout",
     "output_type": "stream",
     "text": [
      "50\n",
      "<class 'int'>\n",
      "True\n",
      "<class 'bool'>\n"
     ]
    }
   ],
   "source": [
    "# int TO bool  # for all +ve or -ve no it gives true value and for 0 gives false\n",
    "a = 50\n",
    "print(a)\n",
    "print(type(a))\n",
    "b = bool(a)\n",
    "print (b)\n",
    "print(type(b))\n"
   ]
  },
  {
   "cell_type": "code",
   "execution_count": 38,
   "id": "5aadf28e",
   "metadata": {},
   "outputs": [
    {
     "name": "stdout",
     "output_type": "stream",
     "text": [
      "['sakshi', 20, 987456]\n",
      "<class 'list'>\n",
      "('sakshi', 20, 987456)\n",
      "<class 'tuple'>\n"
     ]
    }
   ],
   "source": [
    "# list to tuple\n",
    "a =[\"sakshi\",20,987456]\n",
    "print(a)\n",
    "print(type(a))\n",
    "b = tuple(a)\n",
    "print (b)\n",
    "print(type(b))"
   ]
  },
  {
   "cell_type": "code",
   "execution_count": 39,
   "id": "fa0d078e",
   "metadata": {},
   "outputs": [
    {
     "name": "stdout",
     "output_type": "stream",
     "text": [
      "('sakshi', 20, 987456)\n",
      "<class 'tuple'>\n",
      "['sakshi', 20, 987456]\n",
      "<class 'list'>\n"
     ]
    }
   ],
   "source": [
    "#  tuple to list\n",
    "a =(\"sakshi\",20,987456)\n",
    "print(a)\n",
    "print(type(a))\n",
    "b = list(a)\n",
    "print (b)\n",
    "print(type(b))"
   ]
  },
  {
   "cell_type": "code",
   "execution_count": 40,
   "id": "9ae56ed3",
   "metadata": {},
   "outputs": [
    {
     "name": "stdout",
     "output_type": "stream",
     "text": [
      "madrid\n",
      "<class 'str'>\n",
      "['m', 'a', 'd', 'r', 'i', 'd']\n",
      "<class 'list'>\n"
     ]
    }
   ],
   "source": [
    "# string to list\n",
    "a =\"madrid\"\n",
    "print(a)\n",
    "print(type(a))\n",
    "b = list(a)\n",
    "print (b)\n",
    "print(type(b))"
   ]
  },
  {
   "cell_type": "code",
   "execution_count": 43,
   "id": "0ec65e44",
   "metadata": {},
   "outputs": [
    {
     "name": "stdout",
     "output_type": "stream",
     "text": [
      "['sakshi', 20, 98745654]\n",
      "<class 'list'>\n",
      "['sakshi', 20, 98745654]\n",
      "<class 'str'>\n"
     ]
    }
   ],
   "source": [
    "# list to string\n",
    "a =[\"sakshi\",20,98745654]\n",
    "print(a)\n",
    "print(type(a))\n",
    "b = str(a)\n",
    "print (b)\n",
    "print(type(b))"
   ]
  },
  {
   "cell_type": "code",
   "execution_count": 44,
   "id": "d94656b3",
   "metadata": {},
   "outputs": [
    {
     "name": "stdout",
     "output_type": "stream",
     "text": [
      "['sakshi', 20, 98745654]\n",
      "<class 'list'>\n",
      "True\n",
      "<class 'bool'>\n"
     ]
    }
   ],
   "source": [
    "\n",
    "# string to bool\n",
    "s = \"madrid\"\n",
    "print(a)\n",
    "print(type(a))\n",
    "b = bool(a)\n",
    "print (b)\n",
    "print(type(b))\n",
    "\n",
    "\n",
    "\n",
    "\n"
   ]
  },
  {
   "cell_type": "markdown",
   "id": "611bd9f1",
   "metadata": {},
   "source": [
    "## input():- it is inbuilt function which takes the input from the user and interpret it in string"
   ]
  },
  {
   "cell_type": "code",
   "execution_count": 1,
   "id": "e41511ec",
   "metadata": {},
   "outputs": [
    {
     "name": "stdout",
     "output_type": "stream",
     "text": [
      "enter the first no 5\n",
      "enter the second no 4\n"
     ]
    },
    {
     "data": {
      "text/plain": [
       "1.25"
      ]
     },
     "execution_count": 1,
     "metadata": {},
     "output_type": "execute_result"
    }
   ],
   "source": [
    "a = int(input(\"enter the first no \"))\n",
    "b = int(input(\"enter the second no \"))\n",
    "a/b"
   ]
  },
  {
   "cell_type": "code",
   "execution_count": 1,
   "id": "0a6dc4f4",
   "metadata": {},
   "outputs": [
    {
     "name": "stdout",
     "output_type": "stream",
     "text": [
      "1713458973072\n"
     ]
    }
   ],
   "source": [
    "a = 70\n",
    "print(id(a)) # id gives the address of the value store in the variable a\n",
    "\n",
    "\n"
   ]
  },
  {
   "cell_type": "markdown",
   "id": "48a02290",
   "metadata": {},
   "source": [
    " # Dynamic check typing :- it itself check the type of the variable"
   ]
  },
  {
   "cell_type": "markdown",
   "id": "1f99e6bf",
   "metadata": {},
   "source": [
    "# print() :- it is in built function which is used to display the output"
   ]
  },
  {
   "cell_type": "code",
   "execution_count": 2,
   "id": "4364e7b7",
   "metadata": {},
   "outputs": [
    {
     "name": "stdout",
     "output_type": "stream",
     "text": [
      "32\n"
     ]
    }
   ],
   "source": [
    "print(32)"
   ]
  },
  {
   "cell_type": "code",
   "execution_count": 3,
   "id": "16b10182",
   "metadata": {},
   "outputs": [
    {
     "name": "stdout",
     "output_type": "stream",
     "text": [
      "70\n"
     ]
    }
   ],
   "source": [
    "a = 70\n",
    "print(a)"
   ]
  },
  {
   "cell_type": "code",
   "execution_count": 4,
   "id": "51616399",
   "metadata": {},
   "outputs": [
    {
     "name": "stdout",
     "output_type": "stream",
     "text": [
      "2 34\n"
     ]
    }
   ],
   "source": [
    "print(2,34)"
   ]
  },
  {
   "cell_type": "code",
   "execution_count": 5,
   "id": "6c715b65",
   "metadata": {},
   "outputs": [
    {
     "name": "stdout",
     "output_type": "stream",
     "text": [
      "2 56.7 hello\n"
     ]
    }
   ],
   "source": [
    "print(2,56.7,\"hello\")"
   ]
  },
  {
   "cell_type": "code",
   "execution_count": 6,
   "id": "ca883814",
   "metadata": {},
   "outputs": [
    {
     "name": "stdout",
     "output_type": "stream",
     "text": [
      "\n"
     ]
    }
   ],
   "source": [
    "print() # docstring give the description of the function #value,separtor used for separte the values,end used for ending the statement by default it goes to the next line"
   ]
  },
  {
   "cell_type": "code",
   "execution_count": 9,
   "id": "4dec48be",
   "metadata": {},
   "outputs": [
    {
     "name": "stdout",
     "output_type": "stream",
     "text": [
      "2 -56.5 -9 -90.8 -heloo@"
     ]
    }
   ],
   "source": [
    "print(2,56.5,9,\"90.8\",\"helloo\",sep =\" -\",end=\"@\")"
   ]
  },
  {
   "cell_type": "code",
   "execution_count": 10,
   "id": "ada87cb1",
   "metadata": {},
   "outputs": [
    {
     "name": "stdout",
     "output_type": "stream",
     "text": [
      "2 45 9 hello\n",
      "helloz---------how r u\n"
     ]
    }
   ],
   "source": [
    "print(2,45,9,\"hello\")\n",
    "print(\"helloz\",end= \"---------\")\n",
    "print(\"how r u\")"
   ]
  },
  {
   "cell_type": "markdown",
   "id": "1063ba32",
   "metadata": {},
   "source": [
    "# operators : USED FOR PERFORMING THE OPERATIONS\n",
    "1. ARITHEMETIC\n",
    "\n",
    "2.COMPARISIONS/RELATIONAL\n",
    "\n",
    "3. LOGICAL \n",
    "4. SPECIAL OPERATORS\n",
    "- MEMBERSHIP \n",
    "- IDENTITY\n",
    "5. BITWISE\n",
    "\n",
    "\n"
   ]
  },
  {
   "cell_type": "markdown",
   "id": "39fcf8a0",
   "metadata": {},
   "source": [
    "## arithmetic"
   ]
  },
  {
   "cell_type": "code",
   "execution_count": 12,
   "id": "362cd0e8",
   "metadata": {},
   "outputs": [
    {
     "name": "stdout",
     "output_type": "stream",
     "text": [
      "enter the first number 5\n",
      "enter the second number  2\n",
      "the sum of a 5 and 2 7\n",
      "the sub of a 5 and 2 3\n",
      "the mult of a 5 and 2 10\n",
      "the div of a 5 and 2 2.5\n",
      "the remainder of a 5 and 2 1\n",
      "the floor div of a 5 and 2 2\n",
      "the power of a 5 and 2 25\n"
     ]
    }
   ],
   "source": [
    "a = int(input(\"enter the first number \"))\n",
    "b = int(input(\"enter the second number  \"))\n",
    "print(\"the sum of a\",a,\"and\",b,a+b)\n",
    "print(\"the sub of a\",a,\"and\",b,a-b)\n",
    "print(\"the mult of a\",a,\"and\",b,a*b)\n",
    "print(\"the div of a\",a,\"and\",b,a/b)\n",
    "print(\"the remainder of a\",a,\"and\",b,a%b)\n",
    "print(\"the floor div of a\",a,\"and\",b,a//b)\n",
    "print(\"the power of a\",a,\"and\",b,a**b)"
   ]
  },
  {
   "cell_type": "code",
   "execution_count": 10,
   "id": "6c3dc799",
   "metadata": {},
   "outputs": [
    {
     "name": "stdout",
     "output_type": "stream",
     "text": [
      "enter the first number 45\n",
      "enter the second number 5\n",
      "the sum of  45 and 5 = 50\n",
      "40\n",
      "225\n",
      "9.0\n",
      "9\n",
      "0\n",
      "184528125\n"
     ]
    }
   ],
   "source": [
    "a=int(input(\"enter the first number \"))\n",
    "b=int(input(\"enter the second number \"))\n",
    "print(\"the sum of \",a,\"and\",b ,\"=\",a+b)\n",
    "print(a-b)\n",
    "print(a*b)\n",
    "print(a/b)\n",
    "print(a//b)\n",
    "print(a%b)\n",
    "print(a**b)"
   ]
  },
  {
   "cell_type": "markdown",
   "id": "7f757ebb",
   "metadata": {},
   "source": [
    "# relational operator"
   ]
  },
  {
   "cell_type": "code",
   "execution_count": 11,
   "id": "06e433a8",
   "metadata": {},
   "outputs": [
    {
     "name": "stdout",
     "output_type": "stream",
     "text": [
      "enter the first number 45\n",
      "enter the second number 50\n",
      "the value of 45 > 50 is False\n",
      "the value of 45 < 50 is True\n",
      "the value of 45 == 50 is False\n",
      "the value of 45 >= 50 is False\n",
      "the value of 45 <= 50 is True\n",
      "the value of a!=b 50 is False\n",
      "the value of xis 50\n"
     ]
    }
   ],
   "source": [
    "a = int(input(\"enter the first number \"))\n",
    "b = int(input(\"enter the second number \"))\n",
    "print(\"the value of\",a,\">\",b,\"is\",a>b)\n",
    "print(\"the value of\",a,\"<\",b,\"is\",a<b)\n",
    "print(\"the value of\",a,\"==\",b,\"is\",a==b)\n",
    "print(\"the value of\",a,\">=\",b,\"is\",a>=b)\n",
    "print(\"the value of\",a,\"<=\",b,\"is\",a<=b)\n",
    "print(\"the value of\",\"a!=b\",b,\"is\",a>b)\n",
    "x=b # assignment operator the value of b is assigned to x,so x gets the memory container\n",
    "print(\"the value of x\" \"is\",x)\n",
    "                   \n",
    "                   \n",
    "                   "
   ]
  },
  {
   "cell_type": "markdown",
   "id": "3cf5ec69",
   "metadata": {},
   "source": [
    "# logical operator\n",
    "- and\n",
    "- or\n",
    "- not"
   ]
  },
  {
   "cell_type": "markdown",
   "id": "1be44d9f",
   "metadata": {},
   "source": [
    "# or\n"
   ]
  },
  {
   "cell_type": "code",
   "execution_count": 16,
   "id": "23df2ee2",
   "metadata": {},
   "outputs": [
    {
     "data": {
      "text/plain": [
       "True"
      ]
     },
     "execution_count": 16,
     "metadata": {},
     "output_type": "execute_result"
    }
   ],
   "source": [
    "True or False"
   ]
  },
  {
   "cell_type": "code",
   "execution_count": 17,
   "id": "78b8de6e",
   "metadata": {},
   "outputs": [
    {
     "data": {
      "text/plain": [
       "25"
      ]
     },
     "execution_count": 17,
     "metadata": {},
     "output_type": "execute_result"
    }
   ],
   "source": [
    "25 or 0"
   ]
  },
  {
   "cell_type": "code",
   "execution_count": 25,
   "id": "2b3a8bee",
   "metadata": {},
   "outputs": [
    {
     "data": {
      "text/plain": [
       "'hello'"
      ]
     },
     "execution_count": 25,
     "metadata": {},
     "output_type": "execute_result"
    }
   ],
   "source": [
    "\"hello\" or \"hi\""
   ]
  },
  {
   "cell_type": "markdown",
   "id": "aac82eac",
   "metadata": {},
   "source": [
    "# and"
   ]
  },
  {
   "cell_type": "code",
   "execution_count": 19,
   "id": "a7a5e046",
   "metadata": {},
   "outputs": [
    {
     "data": {
      "text/plain": [
       "False"
      ]
     },
     "execution_count": 19,
     "metadata": {},
     "output_type": "execute_result"
    }
   ],
   "source": [
    "True and False"
   ]
  },
  {
   "cell_type": "code",
   "execution_count": 20,
   "id": "cd80339e",
   "metadata": {},
   "outputs": [
    {
     "data": {
      "text/plain": [
       "0"
      ]
     },
     "execution_count": 20,
     "metadata": {},
     "output_type": "execute_result"
    }
   ],
   "source": [
    "85 and 0"
   ]
  },
  {
   "cell_type": "code",
   "execution_count": 21,
   "id": "251aa505",
   "metadata": {},
   "outputs": [
    {
     "data": {
      "text/plain": [
       "50"
      ]
     },
     "execution_count": 21,
     "metadata": {},
     "output_type": "execute_result"
    }
   ],
   "source": [
    "90 and 50"
   ]
  },
  {
   "cell_type": "markdown",
   "id": "a1194eba",
   "metadata": {},
   "source": [
    "# not \n"
   ]
  },
  {
   "cell_type": "code",
   "execution_count": 23,
   "id": "7c2f3743",
   "metadata": {},
   "outputs": [
    {
     "data": {
      "text/plain": [
       "False"
      ]
     },
     "execution_count": 23,
     "metadata": {},
     "output_type": "execute_result"
    }
   ],
   "source": [
    "not(True)"
   ]
  },
  {
   "cell_type": "code",
   "execution_count": 24,
   "id": "75cd4b90",
   "metadata": {
    "scrolled": true
   },
   "outputs": [
    {
     "data": {
      "text/plain": [
       "False"
      ]
     },
     "execution_count": 24,
     "metadata": {},
     "output_type": "execute_result"
    }
   ],
   "source": [
    "not(-8)"
   ]
  },
  {
   "cell_type": "code",
   "execution_count": 26,
   "id": "781ca5c4",
   "metadata": {},
   "outputs": [
    {
     "data": {
      "text/plain": [
       "True"
      ]
     },
     "execution_count": 26,
     "metadata": {},
     "output_type": "execute_result"
    }
   ],
   "source": [
    "not(0)"
   ]
  },
  {
   "cell_type": "markdown",
   "id": "87bef01f",
   "metadata": {},
   "source": [
    "# special operator\n",
    "it works only on string\n",
    "\n",
    "- membership operator\n",
    "  - in and not in\n"
   ]
  },
  {
   "cell_type": "code",
   "execution_count": 22,
   "id": "6c888781",
   "metadata": {},
   "outputs": [
    {
     "data": {
      "text/plain": [
       "True"
      ]
     },
     "execution_count": 22,
     "metadata": {},
     "output_type": "execute_result"
    }
   ],
   "source": [
    "\"m\" in \"madrid\""
   ]
  },
  {
   "cell_type": "code",
   "execution_count": 3,
   "id": "87519bc9",
   "metadata": {},
   "outputs": [
    {
     "data": {
      "text/plain": [
       "True"
      ]
     },
     "execution_count": 3,
     "metadata": {},
     "output_type": "execute_result"
    }
   ],
   "source": [
    "\"mad\" in \"madrid\"\n"
   ]
  },
  {
   "cell_type": "code",
   "execution_count": 19,
   "id": "3cf69385",
   "metadata": {},
   "outputs": [
    {
     "data": {
      "text/plain": [
       "True"
      ]
     },
     "execution_count": 19,
     "metadata": {},
     "output_type": "execute_result"
    }
   ],
   "source": [
    "\"mad\" in \"madrid\""
   ]
  },
  {
   "cell_type": "code",
   "execution_count": 5,
   "id": "28ce9bf0",
   "metadata": {},
   "outputs": [
    {
     "data": {
      "text/plain": [
       "True"
      ]
     },
     "execution_count": 5,
     "metadata": {},
     "output_type": "execute_result"
    }
   ],
   "source": [
    "\"1234\" in \"123456\""
   ]
  },
  {
   "cell_type": "code",
   "execution_count": 23,
   "id": "8187a23c",
   "metadata": {},
   "outputs": [
    {
     "data": {
      "text/plain": [
       "False"
      ]
     },
     "execution_count": 23,
     "metadata": {},
     "output_type": "execute_result"
    }
   ],
   "source": [
    "\"hii\" not in [\"hello\",\"hii\"]"
   ]
  },
  {
   "cell_type": "code",
   "execution_count": null,
   "id": "b05c6224",
   "metadata": {},
   "outputs": [],
   "source": []
  },
  {
   "cell_type": "markdown",
   "id": "d30113d6",
   "metadata": {},
   "source": [
    "# identity operator\n",
    " it check where id is same"
   ]
  },
  {
   "cell_type": "code",
   "execution_count": 21,
   "id": "adfd9548",
   "metadata": {},
   "outputs": [
    {
     "name": "stdout",
     "output_type": "stream",
     "text": [
      "2371167715824\n",
      "2371167715856\n"
     ]
    },
    {
     "data": {
      "text/plain": [
       "False"
      ]
     },
     "execution_count": 21,
     "metadata": {},
     "output_type": "execute_result"
    }
   ],
   "source": [
    "a=9\n",
    "b=10\n",
    "print(id(a))\n",
    "print(id(b))\n",
    "a is b"
   ]
  },
  {
   "cell_type": "code",
   "execution_count": 2,
   "id": "ef0cb5c4",
   "metadata": {},
   "outputs": [
    {
     "name": "stdout",
     "output_type": "stream",
     "text": [
      "2343643056528\n",
      "2343643057168\n",
      "2343643057168\n",
      "False\n",
      "True\n"
     ]
    }
   ],
   "source": [
    "a=70\n",
    "b=90\n",
    "x=b\n",
    "print(id(a))\n",
    "print(id(b))\n",
    "print(id(x))\n",
    "print(a is b)\n",
    "print(b is x)"
   ]
  },
  {
   "cell_type": "markdown",
   "id": "ca166500",
   "metadata": {},
   "source": [
    "# bitwise : skip this for analysis"
   ]
  },
  {
   "cell_type": "markdown",
   "id": "629054f0",
   "metadata": {},
   "source": [
    " # escape sequence\n",
    " these are the special character which are not interpreted normally as a part of string rather they converted into their own special meaning\n",
    " \n",
    " they start with \\ followed by the character"
   ]
  },
  {
   "cell_type": "markdown",
   "id": "fc0cde2f",
   "metadata": {},
   "source": [
    "1. \\n: to generate the new line"
   ]
  },
  {
   "cell_type": "code",
   "execution_count": 7,
   "id": "bcc4b1d7",
   "metadata": {},
   "outputs": [
    {
     "name": "stdout",
     "output_type": "stream",
     "text": [
      "hi how r u \n",
      " hope u r doing well\n"
     ]
    }
   ],
   "source": [
    "print(\"hi how r u \\n hope u r doing well\")"
   ]
  },
  {
   "cell_type": "markdown",
   "id": "e52ac88b",
   "metadata": {},
   "source": [
    " 2. \\t : tab"
   ]
  },
  {
   "cell_type": "code",
   "execution_count": 8,
   "id": "92700f31",
   "metadata": {},
   "outputs": [
    {
     "name": "stdout",
     "output_type": "stream",
     "text": [
      "hi how r u \t hope u r doing well\n"
     ]
    }
   ],
   "source": [
    "print(\"hi how r u \\t hope u r doing well\")"
   ]
  },
  {
   "cell_type": "markdown",
   "id": "41e4148d",
   "metadata": {},
   "source": [
    "# \\n how to be displayed"
   ]
  },
  {
   "cell_type": "code",
   "execution_count": 9,
   "id": "743ae5e4",
   "metadata": {},
   "outputs": [
    {
     "name": "stdout",
     "output_type": "stream",
     "text": [
      "hi how r u students \\n hope u r doing well\n"
     ]
    }
   ],
   "source": [
    "print(\"hi how r u students \\\\n hope u r doing well\")"
   ]
  },
  {
   "cell_type": "code",
   "execution_count": 10,
   "id": "0215b71f",
   "metadata": {},
   "outputs": [
    {
     "name": "stdout",
     "output_type": "stream",
     "text": [
      "hi how r u students \\t hope u r doing well\n"
     ]
    }
   ],
   "source": [
    "print(\"hi how r u students \\\\t hope u r doing well\")"
   ]
  },
  {
   "cell_type": "code",
   "execution_count": 17,
   "id": "51606bbe",
   "metadata": {},
   "outputs": [
    {
     "name": "stdout",
     "output_type": "stream",
     "text": [
      "candid will be distributed equally how r you\n"
     ]
    }
   ],
   "source": [
    "raju=24\n",
    "simran=34\n",
    "aditya=21\n",
    "print(\"candid will be distributed equally how r you\")\n"
   ]
  },
  {
   "cell_type": "code",
   "execution_count": 12,
   "id": "ce45808f",
   "metadata": {},
   "outputs": [
    {
     "name": "stdout",
     "output_type": "stream",
     "text": [
      "hey sakshi \n",
      " how are you \\n\n"
     ]
    }
   ],
   "source": [
    "print(\"hey sakshi \\n how are you \\\\n\")"
   ]
  },
  {
   "cell_type": "code",
   "execution_count": null,
   "id": "15798ae6",
   "metadata": {},
   "outputs": [],
   "source": []
  }
 ],
 "metadata": {
  "kernelspec": {
   "display_name": "Python 3 (ipykernel)",
   "language": "python",
   "name": "python3"
  },
  "language_info": {
   "codemirror_mode": {
    "name": "ipython",
    "version": 3
   },
   "file_extension": ".py",
   "mimetype": "text/x-python",
   "name": "python",
   "nbconvert_exporter": "python",
   "pygments_lexer": "ipython3",
   "version": "3.10.9"
  }
 },
 "nbformat": 4,
 "nbformat_minor": 5
}
